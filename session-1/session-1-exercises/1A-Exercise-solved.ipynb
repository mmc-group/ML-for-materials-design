{
 "cells": [
  {
   "cell_type": "code",
   "execution_count": 1,
   "id": "06b19353-6e8b-4106-8b25-698f90c3e352",
   "metadata": {},
   "outputs": [],
   "source": [
    "# imports: \n",
    "import torch\n",
    "import numpy as np\n",
    "import matplotlib.pyplot as plt\n",
    "torch.manual_seed(0);"
   ]
  },
  {
   "cell_type": "markdown",
   "id": "24e4c994-fd53-4edd-ac53-75a50c800529",
   "metadata": {},
   "source": [
    "---"
   ]
  },
  {
   "cell_type": "markdown",
   "id": "55bbfb4c-1b85-46ff-8a78-e3f8dcce8073",
   "metadata": {},
   "source": [
    "Using automatic differentiation via **.backward()** and **.grad**, find the derivative of the function: $$y=x^2+\\sin(x)\\exp(x)-\\log(x)$$ at $x=0.5$ and $x=2.0$.\n",
    "\n",
    "Remember: you can only call **.backward()** once on a computational graph.\n",
    "\n",
    "Note: PyTorch provides in-built differentiable functions like: torch.sin(), torch.exp(), and torch.log()\n"
   ]
  },
  {
   "cell_type": "code",
   "execution_count": 24,
   "id": "060d9e0d-10e2-4830-bfe8-a562a557a6a8",
   "metadata": {},
   "outputs": [
    {
     "name": "stdout",
     "output_type": "stream",
     "text": [
      "tensor([1.2373])\n"
     ]
    }
   ],
   "source": [
    "x = torch.tensor([0.5])\n",
    "\n",
    "x.requires_grad = True\n",
    "\n",
    "y = x**2 + torch.sin(x)*torch.exp(x) - torch.log(x)\n",
    "\n",
    "y.backward()\n",
    "\n",
    "print(x.grad)"
   ]
  },
  {
   "cell_type": "code",
   "execution_count": 26,
   "id": "56b49822-edda-4a1d-875d-048111f1c95c",
   "metadata": {},
   "outputs": [
    {
     "name": "stdout",
     "output_type": "stream",
     "text": [
      "tensor([7.1439])\n"
     ]
    }
   ],
   "source": [
    "x = torch.tensor([2.0])\n",
    "\n",
    "x.requires_grad = True\n",
    "\n",
    "y = x**2 + torch.sin(x)*torch.exp(x) - torch.log(x)\n",
    "\n",
    "y.backward()\n",
    "\n",
    "print(x.grad)"
   ]
  },
  {
   "cell_type": "code",
   "execution_count": null,
   "id": "fed0e071-466b-45b3-adb2-2348c3e3f302",
   "metadata": {},
   "outputs": [],
   "source": []
  }
 ],
 "metadata": {
  "kernelspec": {
   "display_name": "Python 3 (ipykernel)",
   "language": "python",
   "name": "python3"
  },
  "language_info": {
   "codemirror_mode": {
    "name": "ipython",
    "version": 3
   },
   "file_extension": ".py",
   "mimetype": "text/x-python",
   "name": "python",
   "nbconvert_exporter": "python",
   "pygments_lexer": "ipython3",
   "version": "3.9.5"
  }
 },
 "nbformat": 4,
 "nbformat_minor": 5
}
