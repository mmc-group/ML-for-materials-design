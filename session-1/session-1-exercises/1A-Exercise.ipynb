{
 "cells": [
  {
   "cell_type": "code",
   "execution_count": null,
   "id": "06b19353-6e8b-4106-8b25-698f90c3e352",
   "metadata": {},
   "outputs": [],
   "source": [
    "# imports: \n",
    "import torch\n",
    "import numpy as np\n",
    "import matplotlib.pyplot as plt\n",
    "torch.manual_seed(0);"
   ]
  },
  {
   "cell_type": "markdown",
   "id": "24e4c994-fd53-4edd-ac53-75a50c800529",
   "metadata": {},
   "source": [
    "---"
   ]
  },
  {
   "cell_type": "markdown",
   "id": "55bbfb4c-1b85-46ff-8a78-e3f8dcce8073",
   "metadata": {},
   "source": [
    "Using automatic differentiation via **.backward()** and **.grad**, find the derivative of the function: $$y=x^2+\\sin(x)\\exp(x)-\\log(x)$$ at $x=0.5$ and $x=2.0$.\n",
    "\n",
    "Remember: you can only call **.backward()** once on a computational graph.\n",
    "\n",
    "Note: PyTorch provides in-built differentiable functions like: torch.sin(), torch.exp(), and torch.log()\n"
   ]
  },
  {
   "cell_type": "code",
   "execution_count": null,
   "id": "060d9e0d-10e2-4830-bfe8-a562a557a6a8",
   "metadata": {},
   "outputs": [],
   "source": []
  }
 ],
 "metadata": {
  "kernelspec": {
   "display_name": "Python 3 (ipykernel)",
   "language": "python",
   "name": "python3"
  },
  "language_info": {
   "codemirror_mode": {
    "name": "ipython",
    "version": 3
   },
   "file_extension": ".py",
   "mimetype": "text/x-python",
   "name": "python",
   "nbconvert_exporter": "python",
   "pygments_lexer": "ipython3",
   "version": "3.9.5"
  }
 },
 "nbformat": 4,
 "nbformat_minor": 5
}
