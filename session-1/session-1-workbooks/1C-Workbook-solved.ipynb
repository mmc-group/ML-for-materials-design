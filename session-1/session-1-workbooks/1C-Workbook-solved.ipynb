{
 "cells": [
  {
   "cell_type": "code",
   "execution_count": 1,
   "id": "06b19353-6e8b-4106-8b25-698f90c3e352",
   "metadata": {},
   "outputs": [],
   "source": [
    "# imports: \n",
    "import torch\n",
    "import numpy as np\n",
    "import matplotlib.pyplot as plt\n",
    "torch.manual_seed(0);"
   ]
  },
  {
   "cell_type": "markdown",
   "id": "5f491aef-94c7-47a2-a321-598803f42122",
   "metadata": {},
   "source": [
    "## Using advanced optimization algorithms"
   ]
  },
  {
   "cell_type": "markdown",
   "id": "fe58d322-3d44-4a79-a66a-777b05a89acf",
   "metadata": {},
   "source": [
    "We will use gradient-based optimization to find roots of the quadratic function:  $$f(a)=a^2-2a+1=0.$$"
   ]
  },
  {
   "cell_type": "code",
   "execution_count": 2,
   "id": "990cb672-80f5-4409-afae-987be3916e83",
   "metadata": {},
   "outputs": [],
   "source": [
    "# Define a learning rate 'lr' with value 0.1\n",
    "lr = 0.1\n",
    "\n",
    "# Here's an empty list to store the value of loss at every iteration\n",
    "loss_history = []\n",
    "\n",
    "# Initialize 'a' as a tensor of dimension 1, and initial guess value of 0.\n",
    "a = torch.tensor([0.])\n",
    "\n",
    "# Since, we want to find the value of a using optimization, set .requires_grad to True for a\n",
    "a.requires_grad = True\n",
    "\n",
    "# We create an optimizer here that will do the job for gradient-optimization for us \n",
    "# Adam is a famous optimizer with adaptive gradient descent techinque for faster convergence.\n",
    "# Documentation: https://pytorch.org/docs/stable/generated/torch.optim.Adam.html\n",
    "# Other optimizers include -- \n",
    "# SGD (Stochastic gradient descent), \n",
    "# LBFGS (limited-memory Broyden–Fletcher–Goldfarb–Shanno), etc.\n",
    "optimizer = torch.optim.Adam([a], lr=lr)\n",
    "\n",
    "# begin iterating over 5000 steps:\n",
    "for i in range(5000):\n",
    "    \n",
    "    # predict f:\n",
    "    f = a**2 - 2*a + 1\n",
    "    \n",
    "    # Compute the loss. Use the squared value of f as loss. \n",
    "    loss = f**2\n",
    "    \n",
    "    # store the loss in a list using loss_history.append(). Use loss.detach().item() to only store the numerical value\n",
    "    loss_history.append(loss.detach().item())\n",
    "    \n",
    "    # Call .backward() on loss to compute gradient (d_loss/d_a)\n",
    "    loss.backward()\n",
    "    \n",
    "    # Turn off gradient tracking to not connect graph starting from 'a' back to 'a'\n",
    "    with torch.no_grad():\n",
    "        \n",
    "        # Instead of updating the value of 'a' ourselves, let optimizer do it for us\n",
    "        optimizer.step()\n",
    "    \n",
    "    # remove any pre-exisitng gradients stored\n",
    "    optimizer.zero_grad()  \n",
    "    "
   ]
  },
  {
   "cell_type": "code",
   "execution_count": 3,
   "id": "e6a08b16-321c-44dc-a75a-a54341d44830",
   "metadata": {},
   "outputs": [
    {
     "data": {
      "image/png": "[encoded data removed]",
      "text/plain": [
       "<Figure size 432x288 with 1 Axes>"
      ]
     },
     "metadata": {
      "needs_background": "light"
     },
     "output_type": "display_data"
    }
   ],
   "source": [
    "# Plot loss history\n",
    "plt.plot(loss_history)\n",
    "plt.yscale('log')"
   ]
  },
  {
   "cell_type": "markdown",
   "id": "c21083e7-75e4-430c-9307-cd6adcad3d1b",
   "metadata": {},
   "source": [
    "***Root of the polynomial***"
   ]
  },
  {
   "cell_type": "code",
   "execution_count": 4,
   "id": "139ce65c-5125-4e8e-b4bc-cc5a8a693fc1",
   "metadata": {},
   "outputs": [
    {
     "name": "stdout",
     "output_type": "stream",
     "text": [
      "tensor([1.0032], requires_grad=True)\n"
     ]
    }
   ],
   "source": [
    "print(a) #The answer should be close to 1.0"
   ]
  },
  {
   "cell_type": "code",
   "execution_count": null,
   "id": "c4e6ad6d-34f2-435f-bea2-c2ee7daa0fd2",
   "metadata": {},
   "outputs": [],
   "source": []
  },
  {
   "cell_type": "markdown",
   "id": "7a3c1c01-e0e4-4697-8176-a62efd95abc2",
   "metadata": {},
   "source": [
    "-----\n",
    "\n",
    "## Questions?"
   ]
  },
  {
   "cell_type": "code",
   "execution_count": null,
   "id": "0661a9aa-da7e-48a1-8d83-deeba18bbc6b",
   "metadata": {},
   "outputs": [],
   "source": []
  }
 ],
 "metadata": {
  "kernelspec": {
   "display_name": "Python 3 (ipykernel)",
   "language": "python",
   "name": "python3"
  },
  "language_info": {
   "codemirror_mode": {
    "name": "ipython",
    "version": 3
   },
   "file_extension": ".py",
   "mimetype": "text/x-python",
   "name": "python",
   "nbconvert_exporter": "python",
   "pygments_lexer": "ipython3",
   "version": "3.9.5"
  }
 },
 "nbformat": 4,
 "nbformat_minor": 5
}
